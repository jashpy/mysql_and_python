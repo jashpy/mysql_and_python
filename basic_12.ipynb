{
 "cells": [
  {
   "cell_type": "markdown",
   "id": "c2f6e62f-fa9b-4672-b50b-8996ee367f1e",
   "metadata": {},
   "source": [
    "problem-1"
   ]
  },
  {
   "cell_type": "code",
   "execution_count": 1,
   "id": "cfee03b4-2b88-4971-b005-ee74ff136197",
   "metadata": {},
   "outputs": [
    {
     "data": {
      "text/plain": [
       "'ans-DATABASE-structured or arranged form of data,which can be accessed through various \\npossible ways\\nSQL needs specific structures and attain a particular schema,it is quite safe and \\nefficient to handle complex queries.\\n\\nNOSQL need not to be organised it can be in json format,graph based format,flexibility \\nis more in NOSQL,and schema varies from database to database.'"
      ]
     },
     "execution_count": 1,
     "metadata": {},
     "output_type": "execute_result"
    }
   ],
   "source": [
    "#Q1. What is a database? Differentiate between SQL and NoSQL databases.\n",
    "'''ans-DATABASE-structured or arranged form of data,which can be accessed through various \n",
    "possible ways\n",
    "SQL needs specific structures and attain a particular schema,it is quite safe and \n",
    "efficient to handle complex queries.\n",
    "\n",
    "NOSQL need not to be organised it can be in json format,graph based format,flexibility \n",
    "is more in NOSQL,and schema varies from database to database.'''\n"
   ]
  },
  {
   "cell_type": "markdown",
   "id": "cabcfe26-bfc4-4047-a644-00678303f47d",
   "metadata": {},
   "source": [
    "problem-2"
   ]
  },
  {
   "cell_type": "code",
   "execution_count": 4,
   "id": "d2305095-b15d-487f-9d5d-3d6ac2941280",
   "metadata": {},
   "outputs": [
    {
     "data": {
      "text/plain": [
       "'import mysql.connector\\nmydb=mysql.connector.connect(\\n    host=\"localhost\",\\n    user=\"abc\",\\n    password=\"password\",\\n)\\nmycursor=mydb.cursor()\\nmycursor.execute(\"CREATE DATABASE test3\")\\nmydb.close()\\n\\n\\n#2)drop\\n it will drop a table from a database\\n#  DROP TABLE table_name;\\n\\n\\n#3)alter:used to play with the columns of the table\\n   ALTER TABLE table_name\\n       ADD c5(255);    \\n\\n\\n#4)truncate:this command deletes the data inside a table not the actual table\\n#  TRUNCATE TABLE table_name;\\n'"
      ]
     },
     "execution_count": 4,
     "metadata": {},
     "output_type": "execute_result"
    }
   ],
   "source": [
    "#Q2. What is DDL? Explain why CREATE, DROP, ALTER, and TRUNCATE are used with an example.\n",
    "'''ans-database definition language used to describe data and its relationship.it is \n",
    "a subset of SQL.'''\n",
    "\n",
    "#1)CREATE(creating a database):\n",
    "'''import mysql.connector\n",
    "mydb=mysql.connector.connect(\n",
    "    host=\"localhost\",\n",
    "    user=\"abc\",\n",
    "    password=\"password\",\n",
    ")\n",
    "mycursor=mydb.cursor()\n",
    "mycursor.execute(\"CREATE DATABASE test3\")\n",
    "mydb.close()\n",
    "\n",
    "\n",
    "#2)drop\n",
    " it will drop a table from a database\n",
    "#  DROP TABLE table_name;\n",
    "\n",
    "\n",
    "#3)alter:used to play with the columns of the table\n",
    "   ALTER TABLE table_name\n",
    "       ADD c5(255);    \n",
    "\n",
    "\n",
    "#4)truncate:this command deletes the data inside a table not the actual table\n",
    "#  TRUNCATE TABLE table_name;\n",
    "'''"
   ]
  },
  {
   "cell_type": "markdown",
   "id": "63c933b1-eac1-44de-9234-09eb71e11882",
   "metadata": {},
   "source": [
    "problem-3"
   ]
  },
  {
   "cell_type": "code",
   "execution_count": 5,
   "id": "0be6b80d-5180-45ba-852a-c510a8f4ebff",
   "metadata": {},
   "outputs": [
    {
     "data": {
      "text/plain": [
       "\"DELETE FROM Customers WHERE CustomerName='sndwkdcb';\""
      ]
     },
     "execution_count": 5,
     "metadata": {},
     "output_type": "execute_result"
    }
   ],
   "source": [
    "#Q3. What is DML? Explain INSERT, UPDATE, and DELETE with an example.\n",
    "'''ans-data manipulation language comprising of many languages and giving the rights \n",
    "to manipulate with the data.'''\n",
    "\n",
    "#INSERT:used to insert new records/rows in a table\n",
    "'''INSERT INTO table_name (CustomerName, ContactName, Address, City, PostalCode, Country)\n",
    "VALUES ('mohan', 'mohan.py', 'west_winsor', 'asjdwd', '543', 'JDHvevg');'''\n",
    "\n",
    "#UPDATE:used to update exisiting rows\n",
    "'''UPDATE table_name\n",
    "SET ContactName = 'asddsfb', City= 'ncwdcnd'\n",
    "WHERE CustomerID = 0;'''\n",
    "\n",
    "#DELETE:used to delete exisiting records\n",
    "'''DELETE FROM Customers WHERE CustomerName='sndwkdcb';'''\n"
   ]
  },
  {
   "cell_type": "markdown",
   "id": "c95ba165-0a66-4ec9-ab91-10d8e5a9d346",
   "metadata": {},
   "source": [
    "problem-4"
   ]
  },
  {
   "cell_type": "code",
   "execution_count": 6,
   "id": "fe332674-644b-49fa-a2b6-41e74592fee5",
   "metadata": {},
   "outputs": [
    {
     "data": {
      "text/plain": [
       "'import mysql.connector\\nmydb=mysql.connector.connect(\\n    host=\"xxxxxxx\",\\n    user=\"xxxxxxxx\",\\n    password=\"xxxxxxxx\",\\n)\\nmycursor=mydb.cursor()\\nmycursor.execute(\"select * from test1.test1_table\")             #select\\nfor i in mycursor.fetchall():\\n    print(i)\\n\\nmydb.close()'"
      ]
     },
     "execution_count": 6,
     "metadata": {},
     "output_type": "execute_result"
    }
   ],
   "source": [
    "#4. What is DQL? Explain SELECT with an example.\n",
    "'''data queries languages used to make various queries in a database,sql is an example.'''\n",
    "\n",
    "'''import mysql.connector\n",
    "mydb=mysql.connector.connect(\n",
    "    host=\"xxxxxxx\",\n",
    "    user=\"xxxxxxxx\",\n",
    "    password=\"xxxxxxxx\",\n",
    ")\n",
    "mycursor=mydb.cursor()\n",
    "mycursor.execute(\"select * from test1.test1_table\")             #select\n",
    "for i in mycursor.fetchall():\n",
    "    print(i)\n",
    "\n",
    "mydb.close()'''"
   ]
  },
  {
   "cell_type": "markdown",
   "id": "17027882-3e96-4df5-9bb3-616b89136039",
   "metadata": {},
   "source": [
    "problem-5"
   ]
  },
  {
   "cell_type": "code",
   "execution_count": 7,
   "id": "fb74d107-22b0-4f6a-8e2d-681005596a0e",
   "metadata": {},
   "outputs": [
    {
     "data": {
      "text/plain": [
       "'A primary key is used such that the data in the specific column\\nis unique. A column cannot have NULL values. \\n\\nA foreign key is a column or group of columns in a relational database table that provides a link between data in two tables.'"
      ]
     },
     "execution_count": 7,
     "metadata": {},
     "output_type": "execute_result"
    }
   ],
   "source": [
    "#Q5. Explain Primary Key and Foreign Key.\n",
    "'''A primary key is used such that the data in the specific column\n",
    "is unique. A column cannot have NULL values. \n",
    "\n",
    "A foreign key is a column or group of columns in a relational database table that provides a link between data in two tables.'''\n"
   ]
  },
  {
   "cell_type": "markdown",
   "id": "9050e6bc-35a8-4c59-908b-9e388cb1255b",
   "metadata": {},
   "source": [
    "problem-6"
   ]
  },
  {
   "cell_type": "code",
   "execution_count": 8,
   "id": "aa462df5-75a2-4988-adea-2718d3bc8421",
   "metadata": {},
   "outputs": [
    {
     "data": {
      "text/plain": [
       "'import mysql.connector\\nmydb=mysql.connector.connect(\\n    host=\"localhost\",\\n    user=\"abc\",\\n    password=\"password\",\\n)\\nmycursor=mydb.cursor()\\nmycursor.execute(\"CREATE DATABASE test3\")\\nmydb.close() '"
      ]
     },
     "execution_count": 8,
     "metadata": {},
     "output_type": "execute_result"
    }
   ],
   "source": [
    "#Q6. Write a python code to connect MySQL to python. Explain the cursor() and execute() method.\n",
    "#connecting mysql with python\n",
    "'''import mysql.connector\n",
    "mydb=mysql.connector.connect(\n",
    "    host=\"localhost\",\n",
    "    user=\"abc\",\n",
    "    password=\"password\",\n",
    ")\n",
    "mycursor=mydb.cursor()\n",
    "mycursor.execute(\"CREATE DATABASE test3\")\n",
    "mydb.close() '''\n",
    "\n",
    "#the methpd cursor() is basically used to read the data and iterate through it\n",
    "#and execute() is just like a run buttton after its implementation command inside it executes\n"
   ]
  },
  {
   "cell_type": "markdown",
   "id": "99265f00-d23a-41ab-a3d1-9a046310ed29",
   "metadata": {},
   "source": [
    "problem-7"
   ]
  },
  {
   "cell_type": "code",
   "execution_count": 9,
   "id": "8c260c5f-0ea2-4827-9fa4-56b70945a4a8",
   "metadata": {},
   "outputs": [
    {
     "data": {
      "text/plain": [
       "'like bodmas rule in mathematics we have the order of execution here also\\n\\nFROM/JOIN\\nWHERE\\nGROUP BY\\nHAVING\\nSELECT\\nORDER BY\\nLIMIT/OFFSET\\n'"
      ]
     },
     "execution_count": 9,
     "metadata": {},
     "output_type": "execute_result"
    }
   ],
   "source": [
    "#Q7. Give the order of execution of SQL clauses in an SQL query.\n",
    "'''like bodmas rule in mathematics we have the order of execution here also\n",
    "\n",
    "FROM/JOIN\n",
    "WHERE\n",
    "GROUP BY\n",
    "HAVING\n",
    "SELECT\n",
    "ORDER BY\n",
    "LIMIT/OFFSET\n",
    "'''"
   ]
  },
  {
   "cell_type": "code",
   "execution_count": null,
   "id": "18eb2c95-23e2-44bf-835b-9c1cf5e4ce32",
   "metadata": {},
   "outputs": [],
   "source": []
  }
 ],
 "metadata": {
  "kernelspec": {
   "display_name": "Python 3 (ipykernel)",
   "language": "python",
   "name": "python3"
  },
  "language_info": {
   "codemirror_mode": {
    "name": "ipython",
    "version": 3
   },
   "file_extension": ".py",
   "mimetype": "text/x-python",
   "name": "python",
   "nbconvert_exporter": "python",
   "pygments_lexer": "ipython3",
   "version": "3.10.8"
  }
 },
 "nbformat": 4,
 "nbformat_minor": 5
}
